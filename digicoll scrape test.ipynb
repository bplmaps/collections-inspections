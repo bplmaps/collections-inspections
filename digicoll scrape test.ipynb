{
 "cells": [
  {
   "cell_type": "code",
   "execution_count": 6,
   "id": "0d98dba5",
   "metadata": {},
   "outputs": [],
   "source": [
    "import requests\n",
    "import datetime\n",
    "import csv\n",
    "import numpy as np\n",
    "import pandas as pd"
   ]
  },
  {
   "cell_type": "code",
   "execution_count": 7,
   "id": "a1c0c3e3",
   "metadata": {},
   "outputs": [],
   "source": [
    "searchString = \"https://collections.leventhalmap.org/search?f%5Bcollection_name_ssim%5D%5B%5D=American+Revolutionary+War-Era+Maps+%28Collection+of+Distinction%29\"\n",
    "fields = [\"label_ssim\",\"date_start_tsim\",\"institution_name_ssim\"]\n",
    "\n",
    "complete = False\n",
    "page = 1"
   ]
  },
  {
   "cell_type": "code",
   "execution_count": 8,
   "id": "e1e9b8b5",
   "metadata": {},
   "outputs": [],
   "source": [
    "with open(\"./scrape_results.tsv\", 'w+') as outFile:\n",
    "\n",
    "    outFile.write(\"id\\t{}\\n\".format(\"\\t\".join(fields)))\n",
    "\n",
    "    while not complete:\n",
    "\n",
    "        r = requests.get(\"{}&format=json&per_page=100&page={}\".format(searchString, page))\n",
    "\n",
    "        thisPageResult = r.json()\n",
    "\n",
    "        for doc in thisPageResult['response']['docs']:\n",
    "            outFile.write(doc[\"id\"])\n",
    "            for f in fields:\n",
    "                if isinstance(doc[f], list):\n",
    "                    p = \" || \".join(doc[f])\n",
    "                else:\n",
    "                    p = doc[f]\n",
    "                outFile.write(\"\\t{}\".format(p))\n",
    "            outFile.write(\"\\n\")\n",
    "\n",
    "\n",
    "        complete = True if thisPageResult['response']['pages']['last_page?'] else False\n",
    "        page = thisPageResult['response']['pages']['next_page']"
   ]
  },
  {
   "cell_type": "code",
   "execution_count": 9,
   "id": "b81583f6",
   "metadata": {},
   "outputs": [
    {
     "name": "stdout",
     "output_type": "stream",
     "text": [
      "                          id  \\\n",
      "0     commonwealth:z603vn07z   \n",
      "1     commonwealth:hx11z463j   \n",
      "2     commonwealth:hx11z4610   \n",
      "3     commonwealth:q524nb61w   \n",
      "4     commonwealth:hx11z2634   \n",
      "...                      ...   \n",
      "2185  commonwealth:z603vm31t   \n",
      "2186  commonwealth:z603vh341   \n",
      "2187  commonwealth:q524nc257   \n",
      "2188  commonwealth:z603vh57b   \n",
      "2189  commonwealth:z603vn21s   \n",
      "\n",
      "                                             label_ssim date_start_tsim  \\\n",
      "0               1. Prise de Newport par d'Estaing, 1778            1800   \n",
      "1     1.r Plan du fort proposé dans l'Ille de S.t S...            1738   \n",
      "2     1.r Plan du fort proposé dans l'Ille de S.t S...            1738   \n",
      "3     1st. & 2d. position of that part of the army e...            1777   \n",
      "4                                         1:st Position            1781   \n",
      "...                                                 ...             ...   \n",
      "2185  The Wolves, (a cluster of isles) lying s.e. of...            1780   \n",
      "2186                           Worcester, May 28, 1795.            1795   \n",
      "2187                             York en Virginie, 1781            1781   \n",
      "2188                    York Town, and Gloucester Point            1788   \n",
      "2189                                       Ysla de Cuba            1770   \n",
      "\n",
      "                               institution_name_ssim  \n",
      "0                                   Newberry Library  \n",
      "1                                    British Library  \n",
      "2                                    British Library  \n",
      "3     Library of Congress Geography and Map Division  \n",
      "4                                    British Library  \n",
      "...                                              ...  \n",
      "2185  Library of Congress Geography and Map Division  \n",
      "2186                    American Antiquarian Society  \n",
      "2187  Library of Congress Geography and Map Division  \n",
      "2188                                 Harvard Library  \n",
      "2189                                Newberry Library  \n",
      "\n",
      "[2190 rows x 4 columns]\n"
     ]
    }
   ],
   "source": [
    "df = pd.read_csv(\"scrape_results.tsv\", sep='\\t')\n",
    "print(df)"
   ]
  },
  {
   "cell_type": "code",
   "execution_count": 12,
   "id": "5958e032",
   "metadata": {},
   "outputs": [
    {
     "data": {
      "text/plain": [
       "<PandasArray>\n",
       "[   0,    1,    2,    3,    4,    5,    6,    7,    8,    9,\n",
       " ...\n",
       " 2180, 2181, 2182, 2183, 2184, 2185, 2186, 2187, 2188, 2189]\n",
       "Length: 2190, dtype: int64"
      ]
     },
     "execution_count": 12,
     "metadata": {},
     "output_type": "execute_result"
    }
   ],
   "source": [
    "df.index.array"
   ]
  },
  {
   "cell_type": "code",
   "execution_count": null,
   "id": "2f785850",
   "metadata": {},
   "outputs": [],
   "source": []
  }
 ],
 "metadata": {
  "kernelspec": {
   "display_name": "Python 3",
   "language": "python",
   "name": "python3"
  },
  "language_info": {
   "codemirror_mode": {
    "name": "ipython",
    "version": 3
   },
   "file_extension": ".py",
   "mimetype": "text/x-python",
   "name": "python",
   "nbconvert_exporter": "python",
   "pygments_lexer": "ipython3",
   "version": "3.8.8"
  }
 },
 "nbformat": 4,
 "nbformat_minor": 5
}
